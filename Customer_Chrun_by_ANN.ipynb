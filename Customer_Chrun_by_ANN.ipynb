{
  "nbformat": 4,
  "nbformat_minor": 0,
  "metadata": {
    "colab": {
      "private_outputs": true,
      "provenance": [],
      "authorship_tag": "ABX9TyOXb33I1NswXVqEkrP2gTwY",
      "include_colab_link": true
    },
    "kernelspec": {
      "name": "python3",
      "display_name": "Python 3"
    },
    "language_info": {
      "name": "python"
    }
  },
  "cells": [
    {
      "cell_type": "markdown",
      "metadata": {
        "id": "view-in-github",
        "colab_type": "text"
      },
      "source": [
        "<a href=\"https://colab.research.google.com/github/HassanJoy/Deep-Learning/blob/main/Customer_Chrun_by_ANN.ipynb\" target=\"_parent\"><img src=\"https://colab.research.google.com/assets/colab-badge.svg\" alt=\"Open In Colab\"/></a>"
      ]
    },
    {
      "cell_type": "code",
      "execution_count": null,
      "metadata": {
        "id": "Zgdv8UNPNLeN"
      },
      "outputs": [],
      "source": [
        "import pandas as pd\n",
        "import tensorflow as tf\n",
        "from tensorflow import keras"
      ]
    },
    {
      "cell_type": "code",
      "source": [
        "df=pd.read_csv(\"/content/Churn_Modelling - Churn_Modelling.csv\")\n",
        "df"
      ],
      "metadata": {
        "id": "eurjuxlf99rl"
      },
      "execution_count": null,
      "outputs": []
    },
    {
      "cell_type": "code",
      "source": [
        "df.shape"
      ],
      "metadata": {
        "id": "yuDFvSbT_iZP"
      },
      "execution_count": null,
      "outputs": []
    },
    {
      "cell_type": "code",
      "source": [
        "df.isnull().sum()"
      ],
      "metadata": {
        "id": "oBbdzLq1-Rc6"
      },
      "execution_count": null,
      "outputs": []
    },
    {
      "cell_type": "code",
      "source": [
        "df.describe()"
      ],
      "metadata": {
        "id": "voWNv3ZI-Wpf"
      },
      "execution_count": null,
      "outputs": []
    },
    {
      "cell_type": "code",
      "source": [
        "df.dtypes"
      ],
      "metadata": {
        "id": "ikUynK0r-6tX"
      },
      "execution_count": null,
      "outputs": []
    },
    {
      "cell_type": "code",
      "source": [
        "df.drop(['CustomerId','RowNumber'],axis='columns',inplace=True)"
      ],
      "metadata": {
        "id": "X8ZIRi95AL13"
      },
      "execution_count": null,
      "outputs": []
    },
    {
      "cell_type": "code",
      "source": [
        "df.head()"
      ],
      "metadata": {
        "id": "WJ_Jg01LAcDm"
      },
      "execution_count": null,
      "outputs": []
    },
    {
      "cell_type": "code",
      "source": [
        "df.Geography.unique()"
      ],
      "metadata": {
        "id": "w25Ghc7XCHMd"
      },
      "execution_count": null,
      "outputs": []
    },
    {
      "cell_type": "code",
      "source": [
        "import matplotlib.pyplot as plt\n",
        "import seaborn as sns"
      ],
      "metadata": {
        "id": "u_BtoKwJDBPe"
      },
      "execution_count": null,
      "outputs": []
    },
    {
      "cell_type": "code",
      "source": [
        "sns.catplot(data=df, x=\"Geography\",kind=\"count\", palette=\"ch:.25\")"
      ],
      "metadata": {
        "id": "h3pm-lGOEBiV"
      },
      "execution_count": null,
      "outputs": []
    },
    {
      "cell_type": "code",
      "source": [
        "grouped_data = df.groupby([\"Geography\", \"Exited\"]).size().unstack(fill_value=0)\n",
        "grouped_data.plot(kind='bar', stacked=True, figsize=(8, 6))\n",
        "plt.xlabel(\"Geography\")\n",
        "plt.ylabel(\"No.Of Customers\")\n",
        "plt.title(\"Customer Churn Prediction Visualiztion\")\n",
        "plt.show()\n"
      ],
      "metadata": {
        "id": "sv8rt1OmHJgC"
      },
      "execution_count": null,
      "outputs": []
    },
    {
      "cell_type": "code",
      "source": [
        "grouped_data = df.groupby([\"Gender\", \"Exited\"]).size().unstack(fill_value=0)\n",
        "grouped_data.plot(kind='bar', stacked=True, figsize=(8, 6))\n",
        "plt.xlabel(\"Gender\")\n",
        "plt.ylabel(\"No.Of Customers\")\n",
        "plt.title(\"Customer Churn Prediction Visualiztion\")\n",
        "plt.show()"
      ],
      "metadata": {
        "id": "9ThQ60IELYwr"
      },
      "execution_count": null,
      "outputs": []
    },
    {
      "cell_type": "code",
      "source": [
        "gography_mapping = {'France': 0, 'Spain': 1, 'Germany':2}\n",
        "df['Geography'] = df['Geography'].map(gography_mapping)"
      ],
      "metadata": {
        "id": "3G2T7aIrL8Bh"
      },
      "execution_count": null,
      "outputs": []
    },
    {
      "cell_type": "code",
      "source": [
        "gender_mapping = {'Female': 0, 'Male': 1}\n",
        "df['Gender'] = df['Gender'].map(gender_mapping)"
      ],
      "metadata": {
        "id": "8PXypz94S8YX"
      },
      "execution_count": null,
      "outputs": []
    },
    {
      "cell_type": "code",
      "source": [
        "df"
      ],
      "metadata": {
        "id": "awD4vWjqNaDT"
      },
      "execution_count": null,
      "outputs": []
    },
    {
      "cell_type": "code",
      "source": [
        "df.drop(['Surname'],axis='columns',inplace=True)\n",
        "df.head()"
      ],
      "metadata": {
        "id": "Kf1PVUD0TSNY"
      },
      "execution_count": null,
      "outputs": []
    },
    {
      "cell_type": "code",
      "source": [
        "#scaling\n",
        "df.EstimatedSalary= df.EstimatedSalary/100000\n",
        "df.Balance= df.Balance/100000"
      ],
      "metadata": {
        "id": "wS1D3yEyubA7"
      },
      "execution_count": null,
      "outputs": []
    },
    {
      "cell_type": "code",
      "source": [
        "df.head()"
      ],
      "metadata": {
        "id": "FUB58Ht2u2Gi"
      },
      "execution_count": null,
      "outputs": []
    },
    {
      "cell_type": "code",
      "source": [
        "sns.heatmap( df.corr(), cmap = 'coolwarm', annot = True )\n",
        "plt.show()"
      ],
      "metadata": {
        "id": "-i24ulnxTrKc"
      },
      "execution_count": null,
      "outputs": []
    },
    {
      "cell_type": "code",
      "source": [
        "X = df.drop('Exited',axis='columns')\n",
        "y = df['Exited']\n"
      ],
      "metadata": {
        "id": "2mW9KhuUZJ8d"
      },
      "execution_count": null,
      "outputs": []
    },
    {
      "cell_type": "code",
      "source": [
        "from sklearn.model_selection import train_test_split\n",
        "X_train, X_test, y_train, y_test = train_test_split(X,y,test_size=0.2,random_state=5)"
      ],
      "metadata": {
        "id": "n40EuzjZZgqQ"
      },
      "execution_count": null,
      "outputs": []
    },
    {
      "cell_type": "code",
      "source": [
        "import tensorflow as tf\n",
        "from tensorflow import keras\n",
        "\n",
        "\n",
        "model = keras.Sequential([\n",
        "    keras.layers.Dense(10, input_shape=(10,), activation='relu'),\n",
        "    keras.layers.Dense(15, activation='relu'),\n",
        "    keras.layers.Dense(1, activation='sigmoid')\n",
        "])\n",
        "\n",
        "# opt = keras.optimizers.Adam(learning_rate=0.01)\n",
        "\n",
        "model.compile(optimizer='adam',\n",
        "              loss='binary_crossentropy',\n",
        "              metrics=['accuracy'])\n",
        "\n",
        "model.fit(X_train, y_train, epochs=10)"
      ],
      "metadata": {
        "id": "uLIcsTuTZsHU"
      },
      "execution_count": null,
      "outputs": []
    }
  ]
}